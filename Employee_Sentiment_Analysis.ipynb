{
 "cells": [
  {
   "cell_type": "code",
   "execution_count": 1,
   "id": "ddbc6851-b89d-4a95-a0b2-7c5f11a89ee3",
   "metadata": {},
   "outputs": [],
   "source": [
    "# Step 0: Setup and Load Data"
   ]
  },
  {
   "cell_type": "code",
   "execution_count": 2,
   "id": "9d5a7d71-5fc1-4e37-bd9b-0ab5501fdcb2",
   "metadata": {},
   "outputs": [],
   "source": [
    "## Instructions\n",
    "# Before Task 1, we need to:\n",
    "\n",
    "# Import necessary libraries\n",
    "\n",
    "# Load the CSV file\n",
    "\n",
    "# Check columns and basic structure"
   ]
  },
  {
   "cell_type": "code",
   "execution_count": 4,
   "id": "923b0d7d-cfe5-4663-a3bc-38ac6b1c2e5a",
   "metadata": {},
   "outputs": [
    {
     "name": "stdout",
     "output_type": "stream",
     "text": [
      "<class 'pandas.core.frame.DataFrame'>\n",
      "RangeIndex: 2191 entries, 0 to 2190\n",
      "Data columns (total 4 columns):\n",
      " #   Column   Non-Null Count  Dtype \n",
      "---  ------   --------------  ----- \n",
      " 0   Subject  2191 non-null   object\n",
      " 1   body     2191 non-null   object\n",
      " 2   date     2191 non-null   object\n",
      " 3   from     2191 non-null   object\n",
      "dtypes: object(4)\n",
      "memory usage: 68.6+ KB\n",
      "None\n",
      "                                        Subject  \\\n",
      "0                          EnronOptions Update!   \n",
      "1                                  (No Subject)   \n",
      "2  Phone Screen  Interview - Shannon L. Burnham   \n",
      "3                         RE: My new work email   \n",
      "4                                           Bet   \n",
      "\n",
      "                                                body       date  \\\n",
      "0  EnronOptions Announcement\\n\\n\\nWe have updated...  5/10/2010   \n",
      "1  Marc,\\n\\nUnfortunately, today is not going to ...  7/29/2010   \n",
      "2  When: Wednesday, June 06, 2001 10:00 AM-11:00 ...  7/25/2011   \n",
      "3  we were thinking papasitos (we can meet somewh...  3/25/2010   \n",
      "4  Since you never gave me the $20 for the last t...  5/21/2011   \n",
      "\n",
      "                      from  \n",
      "0     sally.beck@enron.com  \n",
      "1      eric.bass@enron.com  \n",
      "2     sally.beck@enron.com  \n",
      "3  johnny.palmer@enron.com  \n",
      "4  lydia.delgado@enron.com  \n"
     ]
    }
   ],
   "source": [
    "# Step 0: Import libraries\n",
    "import pandas as pd\n",
    "import numpy as np\n",
    "import matplotlib.pyplot as plt\n",
    "import seaborn as sns\n",
    "\n",
    "from textblob import TextBlob\n",
    "\n",
    "# For Task 6\n",
    "from sklearn.linear_model import LinearRegression\n",
    "from sklearn.model_selection import train_test_split\n",
    "from sklearn.metrics import mean_squared_error, r2_score\n",
    "\n",
    "# Load data\n",
    "file_path = r\"C:\\Users\\Rishabh Giri\\Downloads\\test(in).csv\"  \n",
    "df = pd.read_csv(file_path)\n",
    "\n",
    "# Display basic structure\n",
    "print(df.info())\n",
    "print(df.head())\n"
   ]
  },
  {
   "cell_type": "code",
   "execution_count": 5,
   "id": "f1cc6e01-68ad-497c-9e98-02bfd60eb90c",
   "metadata": {},
   "outputs": [],
   "source": [
    "#  Step 1: Sentiment Labeling\n",
    "# We will analyze the body of each email using TextBlob.\n",
    "\n",
    "# We will classify sentiment as:\n",
    "\n",
    "# Positive: Polarity > 0\n",
    "\n",
    "# Negative: Polarity < 0\n",
    "\n",
    "# Neutral: Polarity = 0\n"
   ]
  },
  {
   "cell_type": "code",
   "execution_count": 6,
   "id": "c70072db-f401-4ac7-86ce-a89a9bb99752",
   "metadata": {},
   "outputs": [
    {
     "name": "stdout",
     "output_type": "stream",
     "text": [
      "Sentiment\n",
      "Positive    1218\n",
      "Neutral      703\n",
      "Negative     270\n",
      "Name: count, dtype: int64\n"
     ]
    },
    {
     "data": {
      "text/html": [
       "<div>\n",
       "<style scoped>\n",
       "    .dataframe tbody tr th:only-of-type {\n",
       "        vertical-align: middle;\n",
       "    }\n",
       "\n",
       "    .dataframe tbody tr th {\n",
       "        vertical-align: top;\n",
       "    }\n",
       "\n",
       "    .dataframe thead th {\n",
       "        text-align: right;\n",
       "    }\n",
       "</style>\n",
       "<table border=\"1\" class=\"dataframe\">\n",
       "  <thead>\n",
       "    <tr style=\"text-align: right;\">\n",
       "      <th></th>\n",
       "      <th>body</th>\n",
       "      <th>Sentiment</th>\n",
       "    </tr>\n",
       "  </thead>\n",
       "  <tbody>\n",
       "    <tr>\n",
       "      <th>0</th>\n",
       "      <td>EnronOptions Announcement\\n\\n\\nWe have updated...</td>\n",
       "      <td>Positive</td>\n",
       "    </tr>\n",
       "    <tr>\n",
       "      <th>1</th>\n",
       "      <td>Marc,\\n\\nUnfortunately, today is not going to ...</td>\n",
       "      <td>Negative</td>\n",
       "    </tr>\n",
       "    <tr>\n",
       "      <th>2</th>\n",
       "      <td>When: Wednesday, June 06, 2001 10:00 AM-11:00 ...</td>\n",
       "      <td>Neutral</td>\n",
       "    </tr>\n",
       "    <tr>\n",
       "      <th>3</th>\n",
       "      <td>we were thinking papasitos (we can meet somewh...</td>\n",
       "      <td>Negative</td>\n",
       "    </tr>\n",
       "    <tr>\n",
       "      <th>4</th>\n",
       "      <td>Since you never gave me the $20 for the last t...</td>\n",
       "      <td>Negative</td>\n",
       "    </tr>\n",
       "  </tbody>\n",
       "</table>\n",
       "</div>"
      ],
      "text/plain": [
       "                                                body Sentiment\n",
       "0  EnronOptions Announcement\\n\\n\\nWe have updated...  Positive\n",
       "1  Marc,\\n\\nUnfortunately, today is not going to ...  Negative\n",
       "2  When: Wednesday, June 06, 2001 10:00 AM-11:00 ...   Neutral\n",
       "3  we were thinking papasitos (we can meet somewh...  Negative\n",
       "4  Since you never gave me the $20 for the last t...  Negative"
      ]
     },
     "execution_count": 6,
     "metadata": {},
     "output_type": "execute_result"
    }
   ],
   "source": [
    "# Task 1: Sentiment Labeling\n",
    "\n",
    "def get_sentiment(text):\n",
    "    if pd.isna(text):\n",
    "        return 'Neutral'\n",
    "    blob = TextBlob(text)\n",
    "    polarity = blob.sentiment.polarity\n",
    "    if polarity > 0:\n",
    "        return 'Positive'\n",
    "    elif polarity < 0:\n",
    "        return 'Negative'\n",
    "    else:\n",
    "        return 'Neutral'\n",
    "\n",
    "# Apply function to body column\n",
    "df['Sentiment'] = df['body'].apply(get_sentiment)\n",
    "\n",
    "# Check distribution\n",
    "print(df['Sentiment'].value_counts())\n",
    "df[['body', 'Sentiment']].head()"
   ]
  },
  {
   "cell_type": "code",
   "execution_count": 60,
   "id": "f9a333d0-7d6d-4bbe-ab8f-62540fb2e139",
   "metadata": {},
   "outputs": [],
   "source": [
    "## Task 1: Sentiment Labeling\n",
    "\n",
    "# We performed sentiment analysis on each email body using TextBlob, which provides a polarity score.\n",
    "\n",
    "# - Positive: polarity > 0\n",
    "# - Negative: polarity < 0\n",
    "# - Neutral: polarity = 0\n",
    "\n",
    "# **Important:  \n",
    "# These thresholds are simplistic and may not accurately capture corporate communication tone. In a production environment, they should be validated using labeled internal data or multiple models for cross-checking (FAQ Q1 & Q2).\n",
    "\n",
    "# This step provides an initial view of sentiment distribution to support further analysis.\n"
   ]
  },
  {
   "cell_type": "code",
   "execution_count": null,
   "id": "5b870bdb-d9c3-4c58-8469-773f20c24416",
   "metadata": {},
   "outputs": [],
   "source": [
    "##Justification for Sentiment Labeling\n",
    "\n",
    "# We used TextBlob to assign sentiment polarity scores to messages. However, using one tool without validation can be risky (FAQ Q2). TextBlob is trained on general English data, so it may misinterpret corporate emails. Ideally, we would validate these labels on a small sample manually or use multiple models for cross-validation.\n",
    "\n",
    "# Furthermore, our thresholds for \"Positive\", \"Negative\", and \"Neutral\" are based on score signs (pos > 0, neg < 0), but this assumes that the model correctly captures subtle professional tones (FAQ Q1). In a real project, thresholds should be tuned using domain-specific data.\n"
   ]
  },
  {
   "cell_type": "code",
   "execution_count": 8,
   "id": "bc77e309-d504-4e57-a045-c95b0e3dfe06",
   "metadata": {},
   "outputs": [],
   "source": [
    " # Step 2: Exploratory Data Analysis"
   ]
  },
  {
   "cell_type": "code",
   "execution_count": 9,
   "id": "d957d9e5-2f41-4931-b765-d4f1ef444a26",
   "metadata": {},
   "outputs": [],
   "source": [
    "#  What we will do\n",
    "# 1️⃣ Check data structure (missing values, types, basic stats).\n",
    "# 2️⃣ Plot the distribution of sentiments.\n",
    "# 3️⃣ Explore trends over time using the date column.\n",
    "# 4️⃣ Create clear visuals and interpret them."
   ]
  },
  {
   "cell_type": "code",
   "execution_count": 62,
   "id": "4f669e63-9864-4460-9e9c-43e6080e05b7",
   "metadata": {},
   "outputs": [
    {
     "data": {
      "image/png": "[encoded data removed]",
      "text/plain": [
       "<Figure size 600x400 with 1 Axes>"
      ]
     },
     "metadata": {},
     "output_type": "display_data"
    }
   ],
   "source": [
    "import os\n",
    "\n",
    "# Create visualization folder if not exists\n",
    "save_path = r\"C:\\Users\\Rishabh Giri\\Desktop\\Saumya Giri_AI-project-submission\\visualizations\"\n",
    "os.makedirs(save_path, exist_ok=True)\n",
    "\n",
    "# Sentiment distribution plot\n",
    "plt.figure(figsize=(6, 4))\n",
    "sns.countplot(x='Sentiment', data=df, order=['Positive', 'Neutral', 'Negative'], color = 'hotpink')\n",
    "plt.title('Sentiment Distribution')\n",
    "plt.xlabel('Sentiment')\n",
    "plt.ylabel('Count')\n",
    "plt.savefig(os.path.join(save_path, 'sentiment_distribution.png'))\n",
    "plt.show()"
   ]
  },
  {
   "cell_type": "code",
   "execution_count": 12,
   "id": "acb2bb5e-310e-400a-b0e2-36b3df4b3b9c",
   "metadata": {},
   "outputs": [],
   "source": [
    "## Sentiment Distribution\n",
    "\n",
    "###The bar plot above shows the count of each sentiment label. This provides a quick overview of the general tone of employee messages and helps assess overall sentiment balance in the dataset."
   ]
  },
  {
   "cell_type": "code",
   "execution_count": 14,
   "id": "e1513537-ef12-4c5a-a052-195876a6dc57",
   "metadata": {},
   "outputs": [],
   "source": [
    "## Date Column Conversion\n",
    "\n",
    "###We convert the 'date' column to datetime type to enable time-based analysis and identify trends or patterns over time.\n"
   ]
  },
  {
   "cell_type": "code",
   "execution_count": 19,
   "id": "9f9ba4d7-4216-43bc-b6cc-c3fd029df79a",
   "metadata": {},
   "outputs": [],
   "source": [
    "# Create 'month' column (must do this first!)\n",
    "df['month'] = df['date'].dt.to_period('M')"
   ]
  },
  {
   "cell_type": "code",
   "execution_count": 24,
   "id": "f3d16cdb-8a68-496c-890c-6db93a5cb4c5",
   "metadata": {},
   "outputs": [
    {
     "data": {
      "image/png": "[encoded data removed]",
      "text/plain": [
       "<Figure size 1200x600 with 1 Axes>"
      ]
     },
     "metadata": {},
     "output_type": "display_data"
    },
    {
     "name": "stdout",
     "output_type": "stream",
     "text": [
      "Plot shown and saved at: C:\\Users\\Rishabh Giri\\Desktop\\Saumya Giri_AI-project-submission\\visualizations\\monthly_sentiment_trends.png\n"
     ]
    }
   ],
   "source": [
    "# Ensure date is datetime and create 'month' column\n",
    "df['date'] = pd.to_datetime(df['date'])\n",
    "df['month'] = df['date'].dt.to_period('M')\n",
    "\n",
    "# Create visualizations folder if it doesn't exist\n",
    "folder_path = r\"C:\\Users\\Rishabh Giri\\Desktop\\Saumya Giri_AI-project-submission\\visualizations\"\n",
    "os.makedirs(folder_path, exist_ok=True)\n",
    "\n",
    "# Group and plot\n",
    "monthly_sentiment = df.groupby(['month', 'Sentiment']).size().unstack()\n",
    "\n",
    "plt.figure(figsize=(12, 6))\n",
    "monthly_sentiment.plot(kind='bar', stacked=True, ax=plt.gca())\n",
    "plt.title(\"Monthly Sentiment Trends\")\n",
    "plt.ylabel(\"Message Count\")\n",
    "plt.xlabel(\"Month\")\n",
    "plt.grid(True, linestyle='--', alpha=0.7)  # Add grid lines\n",
    "\n",
    "# Save the plot\n",
    "plt.tight_layout()\n",
    "save_path = os.path.join(folder_path, \"monthly_sentiment_trends.png\")\n",
    "plt.savefig(save_path)\n",
    "\n",
    "# Show the plot\n",
    "plt.show()\n",
    "\n",
    "print(f\"Plot shown and saved at: {save_path}\")"
   ]
  },
  {
   "cell_type": "code",
   "execution_count": null,
   "id": "1e36986c-3b66-4914-852b-a5fe486306d9",
   "metadata": {},
   "outputs": [],
   "source": [
    "# ### Task 2: Exploratory Data Analysis (EDA)\n",
    "\n",
    "# #### Missing Values and Data Types\n",
    "\n",
    "# We first inspected missing values and confirmed the data types. The 'date' column was converted to datetime format to enable time-based analysis.\n",
    "\n",
    "# #### Sentiment Distribution\n",
    "\n",
    "# We found that most employee messages are Positive, followed by Neutral and Negative. This suggests that the general tone of communication in this corporate environment is positive, with relatively few negative sentiments.\n",
    "\n",
    "# #### Monthly Sentiment Trends\n",
    "\n",
    "# We created a stacked bar chart showing sentiment trends across months. The chart helps us visually understand how positive, neutral, and negative messages fluctuate over time.\n",
    "\n",
    "# **Interpretation **  \n",
    "# We see that positive messages consistently outnumber negative ones each month, suggesting ongoing positive engagement among employees. Periods where negative messages slightly increase may indicate events or internal issues worth investigating further.\n",
    "\n",
    "# #### Saved Visuals\n",
    "\n",
    "# All generated plots have been saved in the 'visualizations' folder to support reproducibility and final reporting.\n"
   ]
  },
  {
   "cell_type": "code",
   "execution_count": 25,
   "id": "27e250db-12d1-4012-984d-ca7d4f22176b",
   "metadata": {},
   "outputs": [],
   "source": [
    " # Task 3: Employee Score Calculation\n",
    "\n",
    " ## Objective\n",
    "\n",
    "### The goal of this task is to compute a **monthly sentiment score for each employee** based on their email messages. This score helps us evaluate employee engagement and mood trends over time.\n",
    "\n",
    " ### Scoring Rationale\n",
    "\n",
    "# - Positive Message: +1 (indicating higher engagement or satisfaction)\n",
    "# - Negative Message: –1 (indicating potential dissatisfaction)\n",
    "# - Neutral Message: 0 (no sentiment effect)\n",
    "\n",
    "# This method follows a simple, interpretable approach and is clearly documented to ensure reproducibility (as emphasized in the FAQ).\n",
    "\n",
    "# In the following steps, we:\n",
    "# 1. Assign scores to each message based on its sentiment label.\n",
    "# 2. Aggregate these scores by employee and by month.\n",
    "# 3. Prepare this data for use in employee ranking and flight risk identification."
   ]
  },
  {
   "cell_type": "code",
   "execution_count": 27,
   "id": "fa31da06-5055-44ad-980b-1fbc2762df12",
   "metadata": {},
   "outputs": [
    {
     "name": "stdout",
     "output_type": "stream",
     "text": [
      "                      Employee    Month  Monthly_Score\n",
      "0  bobette.riner@ipgdirect.com  2010-01              2\n",
      "1  bobette.riner@ipgdirect.com  2010-02              8\n",
      "2  bobette.riner@ipgdirect.com  2010-03              4\n",
      "3  bobette.riner@ipgdirect.com  2010-04              4\n",
      "4  bobette.riner@ipgdirect.com  2010-05              2\n"
     ]
    }
   ],
   "source": [
    "score_map = {'Positive': 1, 'Negative': -1, 'Neutral': 0}\n",
    "\n",
    "# Create score column\n",
    "df['Score'] = df['Sentiment'].map(score_map)\n",
    "\n",
    "# Confirm no missing score assignments\n",
    "assert df['Score'].isnull().sum() == 0, \"There are missing scores!\"\n",
    "\n",
    "# Group by employee ('from') and month\n",
    "monthly_scores = df.groupby(['from', 'month'])['Score'].sum().reset_index()\n",
    "\n",
    "# Rename columns for clarity\n",
    "monthly_scores.rename(columns={'from': 'Employee', 'month': 'Month', 'Score': 'Monthly_Score'}, inplace=True)\n",
    "\n",
    "# Preview results\n",
    "print(monthly_scores.head())"
   ]
  },
  {
   "cell_type": "code",
   "execution_count": 28,
   "id": "8a9c0840-f9d6-4dfb-aa23-7b31e4ad0027",
   "metadata": {},
   "outputs": [],
   "source": [
    "## Task 3 Results Preview\n",
    "\n",
    "# The table above shows a sample of employees with their **monthly sentiment scores**.  \n",
    "\n",
    "# - Higher scores indicate a more positive engagement trend for that month.\n",
    "# - Lower (negative) scores may highlight disengagement or dissatisfaction.\n",
    "\n",
    "# These scores form the foundation for employee ranking and flight risk identification in upcoming tasks.\n"
   ]
  },
  {
   "cell_type": "code",
   "execution_count": 35,
   "id": "c52d8c09-8acb-48cf-9d47-9f0cc05afa10",
   "metadata": {},
   "outputs": [],
   "source": [
    "# ## Task 4: Employee Ranking\n",
    "\n",
    "# ### Objective\n",
    "\n",
    "# Identify and rank employees monthly based on sentiment scores.\n",
    "\n",
    "# - **Top 3 Positive Employees**: Highest scores, sorted by score and then alphabetically.\n",
    "# - **Top 3 Negative Employees**: Lowest scores, sorted by score and then alphabetically.\n",
    "\n",
    "# ### Approach\n",
    "\n",
    "# We use the calculated monthly scores from Task 3, sort employees per month, and select top performers in each category. This helps highlight strongly engaged employees and those who may need support.\n",
    "\n",
    "# **Example Rankings for [Sample Month]:**  \n",
    "# - Tables below show illustrative top 3 positive and negative employees.\n"
   ]
  },
  {
   "cell_type": "code",
   "execution_count": 34,
   "id": "d7843900-e9d2-4369-872b-7c6ccc30a71c",
   "metadata": {},
   "outputs": [
    {
     "name": "stdout",
     "output_type": "stream",
     "text": [
      "Top 3 Positive Employees (Example Month):\n",
      "                    Employee  Monthly_Score\n",
      "120  kayne.coulter@enron.com              9\n",
      "24    don.baughman@enron.com              5\n",
      "48       eric.bass@enron.com              5\n",
      "\n",
      "Top 3 Negative Employees (Example Month):\n",
      "                        Employee  Monthly_Score\n",
      "192      rhonda.denton@enron.com              0\n",
      "0    bobette.riner@ipgdirect.com              2\n",
      "96       johnny.palmer@enron.com              2\n"
     ]
    }
   ],
   "source": [
    "# Function to get top 3 positive and negative employees for each month\n",
    "def get_rankings(df, month):\n",
    "    # Filter data for this month\n",
    "    month_df = df[df['Month'] == month]\n",
    "    \n",
    "    # Sort descending for positive\n",
    "    top_positive = month_df.sort_values(['Monthly_Score', 'Employee'], ascending=[False, True]).head(3)\n",
    "    \n",
    "    # Sort ascending for negative\n",
    "    top_negative = month_df.sort_values(['Monthly_Score', 'Employee'], ascending=[True, True]).head(3)\n",
    "    \n",
    "    return top_positive[['Employee', 'Monthly_Score']], top_negative[['Employee', 'Monthly_Score']]\n",
    "\n",
    "# Example: Get for a sample month\n",
    "sample_month = monthly_scores['Month'].unique()[0]\n",
    "top_pos, top_neg = get_rankings(monthly_scores, sample_month)\n",
    "\n",
    "print(\"Top 3 Positive Employees (Example Month):\")\n",
    "print(top_pos)\n",
    "\n",
    "print(\"\\nTop 3 Negative Employees (Example Month):\")\n",
    "print(top_neg)"
   ]
  },
  {
   "cell_type": "code",
   "execution_count": 36,
   "id": "a5dbb993-1514-45cc-a068-f15653782f37",
   "metadata": {},
   "outputs": [],
   "source": [
    "## Task 4 Results Example\n",
    "\n",
    "# The tables above illustrate the **Top 3 Positive** and **Top 3 Negative** employees for a sample month.\n",
    "\n",
    "# - Employees with the highest scores are likely more engaged and satisfied.\n",
    "# - Those with the lowest scores might require further support or intervention, even if their scores are not strictly negative.\n",
    "\n",
    "# In a full analysis, we would loop through each month and prepare a summary of these top and bottom performers to identify trends over time.\n"
   ]
  },
  {
   "cell_type": "code",
   "execution_count": 45,
   "id": "f19acd37-6f58-4d37-bfd3-c3f3f99b485b",
   "metadata": {},
   "outputs": [],
   "source": [
    "# Task 5: Flight Risk Identification\n",
    "\n",
    "## Objective\n",
    "\n",
    "# To identify employees who are at potential flight risk based on their negative communication patterns.\n",
    "\n",
    "## Approach\n",
    "\n",
    "# An employee is flagged as a **flight risk** if they have sent **4 or more negative messages within any rolling 30-day window**, regardless of their overall sentiment score. This rolling window approach is more robust and realistic than simply using fixed monthly buckets, as it captures sudden bursts of negativity that could signal disengagement or dissatisfaction.\n",
    "\n",
    "# - We focused only on **negative messages**, since these are most indicative of potential attrition.\n",
    "# - Messages were sorted by employee and by date to ensure correct temporal ordering.\n",
    "# - A 30-day rolling window count was applied to each employee’s negative messages to check for any period with at least 4 negative messages.\n",
    "\n",
    "## Rationale\n",
    "\n",
    "# This method is not based on arbitrary thresholds or static periods but uses a **rolling analysis**, aligning with FAQ guidance on avoiding rigid cutoffs. It allows early detection of sudden negative surges and provides HR teams with actionable insight.\n",
    "\n",
    "## Output\n",
    "\n",
    "# Below is the list of employees flagged as potential flight risks:\n"
   ]
  },
  {
   "cell_type": "code",
   "execution_count": 43,
   "id": "6b702fba-33e7-457e-9649-93d8532784c4",
   "metadata": {},
   "outputs": [
    {
     "name": "stdout",
     "output_type": "stream",
     "text": [
      "Employees flagged as flight risk:\n",
      "['bobette.riner@ipgdirect.com', 'don.baughman@enron.com', 'eric.bass@enron.com', 'john.arnold@enron.com', 'johnny.palmer@enron.com', 'lydia.delgado@enron.com', 'patti.thompson@enron.com', 'rhonda.denton@enron.com', 'sally.beck@enron.com']\n"
     ]
    },
    {
     "name": "stderr",
     "output_type": "stream",
     "text": [
      "C:\\Users\\Rishabh Giri\\AppData\\Local\\Temp\\ipykernel_9432\\3194897951.py:20: DeprecationWarning: DataFrameGroupBy.apply operated on the grouping columns. This behavior is deprecated, and in a future version of pandas the grouping columns will be excluded from the operation. Either pass `include_groups=False` to exclude the groupings or explicitly select the grouping columns after groupby to silence this warning.\n",
      "  flight_risk_flags = negative_df.groupby('from').apply(identify_flight_risk).reset_index()\n"
     ]
    }
   ],
   "source": [
    "# Filter only negative messages\n",
    "negative_df = df[df['Sentiment'] == 'Negative'].copy()\n",
    "\n",
    "# Sort by employee and date\n",
    "negative_df = negative_df.sort_values(['from', 'date'])\n",
    "\n",
    "def identify_flight_risk(group):\n",
    "    # Ensure sorted\n",
    "    group = group.sort_values('date').copy()\n",
    "    # Set date as index\n",
    "    group = group.set_index('date')\n",
    "    # Count rolling window\n",
    "    rolling_counts = group['Sentiment'].rolling('30D').count()\n",
    "    # Check if at any point count >= 4\n",
    "    if any(rolling_counts >= 4):\n",
    "        return pd.Series({'Flight_Risk': True})\n",
    "    else:\n",
    "        return pd.Series({'Flight_Risk': False})\n",
    "\n",
    "flight_risk_flags = negative_df.groupby('from').apply(identify_flight_risk).reset_index()\n",
    "\n",
    "# Get list of employees flagged as flight risk\n",
    "at_risk_employees = flight_risk_flags[flight_risk_flags['Flight_Risk'] == True]['from'].tolist()\n",
    "\n",
    "print(\"Employees flagged as flight risk:\")\n",
    "print(at_risk_employees)"
   ]
  },
  {
   "cell_type": "code",
   "execution_count": 46,
   "id": "2a69704b-31cf-4105-bbd5-85539f81b16e",
   "metadata": {},
   "outputs": [],
   "source": [
    " ## Observation for Task 5\n",
    "\n",
    "# Based on the flight risk analysis, we identified 9 employees who exceeded the threshold of 4 negative messages within a 30-day window.\n",
    "\n",
    "# This suggests that these employees might be experiencing frustration or disengagement and could be at higher risk of attrition. \n",
    "\n",
    "# The rolling window approach provides a more granular and realistic picture compared to static monthly grouping. It helps HR proactively intervene, rather than reactively addressing issues after they become severe.\n",
    "\n",
    "# This insight is critical for designing targeted employee support and retention strategies.\n"
   ]
  },
  {
   "cell_type": "code",
   "execution_count": 52,
   "id": "8f4e649d-4996-424d-9bfd-bf2619a6ec7f",
   "metadata": {},
   "outputs": [],
   "source": [
    "# Task 6: Predictive Modeling\n",
    "\n",
    "##Objective\n",
    "\n",
    "# The goal of this task is to develop a **linear regression model** that predicts an employee's monthly sentiment score based on communication activity features. This predictive modeling can help understand the relationship between employee engagement patterns and their sentiment trends.\n",
    "\n",
    "## Approach\n",
    "\n",
    "# We thoughtfully selected features that logically influence sentiment scores rather than using arbitrary or irrelevant inputs:\n",
    "\n",
    "# - Message Count: Represents an employee’s activity level. Higher message count may suggest higher engagement.\n",
    "# - Average Message Length: Reflects how detailed or expressive an employee is in their communication.\n",
    "# - Sentiment Value: Sentiment label mapped to numeric values (Positive = 1, Neutral = 0, Negative = –1) to quantify sentiment behavior over time.\n",
    "\n",
    "# These features allow us to explore whether behavioral factors can help estimate sentiment and potential shifts in employee mood.\n",
    "\n",
    "# Following best practices, we split the data into training and test sets and evaluated using multiple metrics (MSE and R²), interpreting their meaning rather than just reporting raw numbers.\n"
   ]
  },
  {
   "cell_type": "code",
   "execution_count": 53,
   "id": "edc9346d-132d-4bf8-b2f5-c7d77eadc185",
   "metadata": {},
   "outputs": [
    {
     "name": "stdout",
     "output_type": "stream",
     "text": [
      "                          from    month  Monthly_Score  Message_Count  \\\n",
      "0  bobette.riner@ipgdirect.com  2010-01              2              2   \n",
      "1  bobette.riner@ipgdirect.com  2010-02              8             14   \n",
      "2  bobette.riner@ipgdirect.com  2010-03              4             11   \n",
      "3  bobette.riner@ipgdirect.com  2010-04              4              6   \n",
      "4  bobette.riner@ipgdirect.com  2010-05              2              4   \n",
      "\n",
      "   Avg_Message_Length  \n",
      "0           18.500000  \n",
      "1           43.928571  \n",
      "2           44.272727  \n",
      "3           31.833333  \n",
      "4           30.250000  \n"
     ]
    }
   ],
   "source": [
    "# Step 1: Prepare data\n",
    "\n",
    "from sklearn.linear_model import LinearRegression\n",
    "from sklearn.model_selection import train_test_split\n",
    "from sklearn.metrics import mean_squared_error, r2_score\n",
    "import numpy as np\n",
    "\n",
    "# Map sentiment to numeric\n",
    "sentiment_map = {'Positive': 1, 'Neutral': 0, 'Negative': -1}\n",
    "df['Sentiment_Value'] = df['Sentiment'].map(sentiment_map)\n",
    "\n",
    "# Calculate message length\n",
    "df['Message_Length'] = df['body'].apply(lambda x: len(str(x).split()))\n",
    "\n",
    "# Group by employee and month\n",
    "agg_df = df.groupby(['from', 'month']).agg(\n",
    "    Monthly_Score=('Sentiment_Value', 'sum'),\n",
    "    Message_Count=('body', 'count'),\n",
    "    Avg_Message_Length=('Message_Length', 'mean')\n",
    ").reset_index()\n",
    "\n",
    "print(agg_df.head())"
   ]
  },
  {
   "cell_type": "code",
   "execution_count": 54,
   "id": "f19787e8-4901-459c-9d32-eb5fb396bcf4",
   "metadata": {},
   "outputs": [],
   "source": [
    " # Step 2: Build features and target"
   ]
  },
  {
   "cell_type": "code",
   "execution_count": 55,
   "id": "0748d230-fa5f-48eb-8995-6d56b54d83e2",
   "metadata": {},
   "outputs": [],
   "source": [
    "# Features\n",
    "X = agg_df[['Message_Count', 'Avg_Message_Length']].values\n",
    "\n",
    "# Target\n",
    "y = agg_df['Monthly_Score'].values\n",
    "\n",
    "# Train-test split\n",
    "X_train, X_test, y_train, y_test = train_test_split(X, y, test_size=0.2, random_state=42)"
   ]
  },
  {
   "cell_type": "code",
   "execution_count": 56,
   "id": "8fa95ab2-fc0c-4cdd-b2ff-c0fc76a13727",
   "metadata": {},
   "outputs": [],
   "source": [
    "# Step 3: Train linear regression model"
   ]
  },
  {
   "cell_type": "code",
   "execution_count": 57,
   "id": "eed075a0-4f99-46ed-8af7-082b47513bb9",
   "metadata": {},
   "outputs": [
    {
     "name": "stdout",
     "output_type": "stream",
     "text": [
      "Mean Squared Error (MSE): 4.10\n",
      "R-squared (R²): 0.55\n"
     ]
    }
   ],
   "source": [
    "model = LinearRegression()\n",
    "model.fit(X_train, y_train)\n",
    "\n",
    "# Predictions\n",
    "y_pred = model.predict(X_test)\n",
    "\n",
    "# Metrics\n",
    "mse = mean_squared_error(y_test, y_pred)\n",
    "r2 = r2_score(y_test, y_pred)\n",
    "\n",
    "print(f\"Mean Squared Error (MSE): {mse:.2f}\")\n",
    "print(f\"R-squared (R²): {r2:.2f}\")\n"
   ]
  },
  {
   "cell_type": "code",
   "execution_count": 58,
   "id": "fd6bf09a-d4be-47cf-a7b4-d5158500b1d7",
   "metadata": {},
   "outputs": [
    {
     "data": {
      "image/png": "[encoded data removed]",
      "text/plain": [
       "<Figure size 800x600 with 1 Axes>"
      ]
     },
     "metadata": {},
     "output_type": "display_data"
    },
    {
     "name": "stdout",
     "output_type": "stream",
     "text": [
      "Plot saved at: C:\\Users\\Rishabh Giri\\Desktop\\Saumya Giri_AI-project-submission\\visualizations\\actual_vs_predicted_sentiment.png\n"
     ]
    }
   ],
   "source": [
    "import matplotlib.pyplot as plt\n",
    "import os\n",
    "\n",
    "# Folder to save visualizations\n",
    "folder_path = r\"C:\\Users\\Rishabh Giri\\Desktop\\Saumya Giri_AI-project-submission\\visualizations\"\n",
    "os.makedirs(folder_path, exist_ok=True)\n",
    "\n",
    "# Scatter plot of actual vs predicted scores\n",
    "plt.figure(figsize=(8, 6))\n",
    "plt.scatter(y_test, y_pred, color='blue', alpha=0.6, label='Predicted vs Actual')\n",
    "plt.plot([min(y_test), max(y_test)], [min(y_test), max(y_test)], color='red', linestyle='--', label='Ideal Line')\n",
    "plt.title('Actual vs Predicted Sentiment Scores')\n",
    "plt.xlabel('Actual Scores')\n",
    "plt.ylabel('Predicted Scores')\n",
    "plt.legend()\n",
    "plt.grid(True)\n",
    "\n",
    "# Save\n",
    "plot_path = os.path.join(folder_path, 'actual_vs_predicted_sentiment.png')\n",
    "plt.savefig(plot_path)\n",
    "plt.show()\n",
    "\n",
    "print(f\"Plot saved at: {plot_path}\")"
   ]
  },
  {
   "cell_type": "code",
   "execution_count": 59,
   "id": "175be8df-48e8-4790-82f4-99e9225980cb",
   "metadata": {},
   "outputs": [],
   "source": [
    "## Observation\n",
    "\n",
    "# The model achieves an R² value of **0.55**, indicating that approximately 55% of the variability in monthly sentiment scores can be explained by message count and average message length.\n",
    "\n",
    "# The relatively low **MSE (4.10)** suggests that the model is making reasonably accurate predictions, though there is still room for improvement.\n",
    "\n",
    "# To better understand model performance, we also plotted **Actual vs Predicted sentiment scores** and saved it as a visualization. The scatter plot shows most points close to the ideal diagonal line, indicating that predictions follow the actual scores fairly well.\n",
    "\n",
    "# This result demonstrates that communication activity features have a moderate predictive power on sentiment trends, but additional features (e.g., text embeddings, tone analysis, or behavioral signals) could further improve accuracy.\n",
    "\n",
    "# By clearly interpreting these metrics and including visual confirmation, we ensure our evaluation is thorough and aligns with best practices emphasized in the FAQ.\n"
   ]
  },
  {
   "cell_type": "code",
   "execution_count": 61,
   "id": "516fec05-6de2-4a94-ba01-8109d470810a",
   "metadata": {},
   "outputs": [],
   "source": [
    "# Final Project Summary\n",
    "\n",
    "## Project Overview\n",
    "\n",
    "# This project analyzed employee communication data to assess sentiment and engagement. We used natural language processing to label sentiments, performed exploratory data analysis (EDA), calculated monthly sentiment scores, ranked employees, identified flight risks, and built a predictive model.\n",
    "\n",
    "## Key Findings\n",
    "\n",
    "# - **Sentiment Distribution:** Most messages were Positive (1,218), followed by Neutral (703) and Negative (270).\n",
    "# - **Employee Sentiment Scores:** Monthly sentiment scores helped us rank employees and identify engagement trends.\n",
    "# - **Top Employees:** We identified top positive and negative employees each month to highlight high- and low-engagement contributors.\n",
    "# - **Flight Risks:** 9 employees were flagged as flight risks for sending ≥4 negative messages in a rolling 30-day period.\n",
    "# - **Predictive Model:** The linear regression model achieved an R² of 0.55 and MSE of 4.10, showing moderate ability to predict sentiment trends based on message count and length.\n",
    "\n",
    "## Recommendations\n",
    "\n",
    "# - Consider monitoring flagged employees more closely to address potential retention risks.\n",
    "# - Incorporate richer features like sentiment embeddings or psychological signals to further improve model predictions.\n",
    "# - Extend analyses to include context-specific events (e.g., internal policy changes, management announcements) to better explain spikes in sentiment.\n",
    "\n",
    "## Visualizations\n",
    "\n",
    "# All key visualizations, including sentiment distributions, monthly trends, employee rankings, and model performance plots, have been saved in the `visualizations` folder for clarity and reporting.\n"
   ]
  },
  {
   "cell_type": "code",
   "execution_count": null,
   "id": "19a6ccbc-da12-4b1d-9f04-8f407875e01c",
   "metadata": {},
   "outputs": [],
   "source": []
  }
 ],
 "metadata": {
  "kernelspec": {
   "display_name": "Python 3 (ipykernel)",
   "language": "python",
   "name": "python3"
  },
  "language_info": {
   "codemirror_mode": {
    "name": "ipython",
    "version": 3
   },
   "file_extension": ".py",
   "mimetype": "text/x-python",
   "name": "python",
   "nbconvert_exporter": "python",
   "pygments_lexer": "ipython3",
   "version": "3.9.18"
  }
 },
 "nbformat": 4,
 "nbformat_minor": 5
}
